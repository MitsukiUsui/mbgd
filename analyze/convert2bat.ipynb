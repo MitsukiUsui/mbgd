{
 "cells": [
  {
   "cell_type": "code",
   "execution_count": 1,
   "metadata": {
    "collapsed": true
   },
   "outputs": [],
   "source": [
    "import pandas as pd"
   ]
  },
  {
   "cell_type": "code",
   "execution_count": 3,
   "metadata": {
    "collapsed": false
   },
   "outputs": [],
   "source": [
    "strainFilepath=\"../preprocess/strain.lst\"\n",
    "strain_lst=[s.strip() for s in open(strainFilepath, 'r').readlines()]\n",
    "familyFilepath=\"family.lst\"\n",
    "family_lst=[s.strip() for s in open(familyFilepath, 'r').readlines()]"
   ]
  },
  {
   "cell_type": "code",
   "execution_count": 4,
   "metadata": {
    "collapsed": false
   },
   "outputs": [
    {
     "name": "stdout",
     "output_type": "stream",
     "text": [
      "['ecg', 'ese', 'ecoj', 'ecp', 'eci', 'ecz', 'eab', 'elc', 'eln', 'ecq', 'eoc', 'ecm', 'gm03564']\n",
      "['Family9218', 'Family15430', 'yieC']\n"
     ]
    }
   ],
   "source": [
    "print(strain_lst)\n",
    "print(family_lst)"
   ]
  },
  {
   "cell_type": "code",
   "execution_count": 5,
   "metadata": {
    "collapsed": false
   },
   "outputs": [],
   "source": [
    "for strain in strain_lst:\n",
    "    outFilepath=\"./bat/{}.bat\".format(strain)\n",
    "    with open(outFilepath, 'w') as f:\n",
    "        outDir=\"/Users/mitsuki/Desktop/snapshot/{}\".format(strain)\n",
    "        f.write(\"snapshotDirectory \"+outDir+\"\\n\")\n",
    "        \n",
    "        for family in family_lst:\n",
    "            filepath=\"../blastn/result/{0}_{1}.tab\".format(strain, family)\n",
    "            if len(open(filepath, 'r').readlines())>0:\n",
    "                df=pd.read_csv(filepath,delimiter='\\t',header=None) \n",
    "                for key,row in df.iterrows():\n",
    "                    chrom=row[1]\n",
    "                    start=row[8]-2000\n",
    "                    end=row[9]+2000\n",
    "                    \n",
    "                    pos=\"{}:{}-{}\".format(chrom, start, end)\n",
    "                    pngFilepath=\"{}_{}_{}.png\".format(strain, family, key)\n",
    "                    f.write(\"goto \"+pos+\"\\n\")\n",
    "                    f.write(\"snapshot \"+pngFilepath+\"\\n\")"
   ]
  },
  {
   "cell_type": "code",
   "execution_count": 6,
   "metadata": {
    "collapsed": false
   },
   "outputs": [
    {
     "data": {
      "text/html": [
       "<div>\n",
       "<table border=\"1\" class=\"dataframe\">\n",
       "  <thead>\n",
       "    <tr style=\"text-align: right;\">\n",
       "      <th></th>\n",
       "      <th>0</th>\n",
       "      <th>1</th>\n",
       "      <th>2</th>\n",
       "      <th>3</th>\n",
       "      <th>4</th>\n",
       "      <th>5</th>\n",
       "      <th>6</th>\n",
       "      <th>7</th>\n",
       "      <th>8</th>\n",
       "      <th>9</th>\n",
       "      <th>10</th>\n",
       "      <th>11</th>\n",
       "    </tr>\n",
       "  </thead>\n",
       "  <tbody>\n",
       "    <tr>\n",
       "      <th>0</th>\n",
       "      <td>ecm:PS2145</td>\n",
       "      <td>ecg:chromosome-1-1</td>\n",
       "      <td>83.696</td>\n",
       "      <td>92</td>\n",
       "      <td>14</td>\n",
       "      <td>1</td>\n",
       "      <td>1</td>\n",
       "      <td>92</td>\n",
       "      <td>1713666</td>\n",
       "      <td>1713576</td>\n",
       "      <td>6.260000e-18</td>\n",
       "      <td>86.1</td>\n",
       "    </tr>\n",
       "  </tbody>\n",
       "</table>\n",
       "</div>"
      ],
      "text/plain": [
       "           0                   1       2   3   4   5   6   7        8   \\\n",
       "0  ecm:PS2145  ecg:chromosome-1-1  83.696  92  14   1   1  92  1713666   \n",
       "\n",
       "        9             10    11  \n",
       "0  1713576  6.260000e-18  86.1  "
      ]
     },
     "execution_count": 6,
     "metadata": {},
     "output_type": "execute_result"
    }
   ],
   "source": [
    "strain=\"ecg\"\n",
    "family=\"Family8494\"\n",
    "filepath=\"../blastn/result/{0}_{1}.tab\".format(strain, family)\n",
    "#if len(open(filepath, 'r').readlines())>0:\n",
    "df=pd.read_csv(filepath,delimiter='\\t',header=None) \n",
    "df.head()"
   ]
  },
  {
   "cell_type": "code",
   "execution_count": 8,
   "metadata": {
    "collapsed": false
   },
   "outputs": [
    {
     "name": "stdout",
     "output_type": "stream",
     "text": [
      "goto ecg:chromosome-1-1:1711666-1715576\n",
      "snapshot ecg_Family8494_0.png\n",
      "\n"
     ]
    }
   ],
   "source": [
    "for key,row in df.iterrows():\n",
    "    chrom=row[1]\n",
    "    start=row[8]-2000\n",
    "    end=row[9]+2000\n",
    "    print(\"goto {}:{}-{}\".format(chrom, start, end))\n",
    "    pngFilename=\"snapshot {}_{}_{}.png\".format(strain, family, key)\n",
    "    print(pngFilename)"
   ]
  },
  {
   "cell_type": "code",
   "execution_count": null,
   "metadata": {
    "collapsed": true
   },
   "outputs": [],
   "source": []
  }
 ],
 "metadata": {
  "kernelspec": {
   "display_name": "Python 3",
   "language": "python",
   "name": "python3"
  },
  "language_info": {
   "codemirror_mode": {
    "name": "ipython",
    "version": 3
   },
   "file_extension": ".py",
   "mimetype": "text/x-python",
   "name": "python",
   "nbconvert_exporter": "python",
   "pygments_lexer": "ipython3",
   "version": "3.6.0"
  }
 },
 "nbformat": 4,
 "nbformat_minor": 2
}
