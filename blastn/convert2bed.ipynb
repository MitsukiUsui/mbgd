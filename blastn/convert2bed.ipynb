{
 "cells": [
  {
   "cell_type": "code",
   "execution_count": 1,
   "metadata": {
    "collapsed": true
   },
   "outputs": [],
   "source": [
    "import pandas as pd\n",
    "import math"
   ]
  },
  {
   "cell_type": "code",
   "execution_count": 2,
   "metadata": {
    "collapsed": false
   },
   "outputs": [],
   "source": [
    "strainFilepath=\"../preprocess/strain.lst\"\n",
    "strain_lst=[s.strip() for s in open(strainFilepath, 'r').readlines()]"
   ]
  },
  {
   "cell_type": "code",
   "execution_count": 3,
   "metadata": {
    "collapsed": false
   },
   "outputs": [],
   "source": [
    "cluster_df=pd.read_csv(\"../preprocess/sampled_cluster.csv\")\n",
    "family_lst=list(cluster_df[\"Family\"])"
   ]
  },
  {
   "cell_type": "code",
   "execution_count": 8,
   "metadata": {
    "collapsed": false
   },
   "outputs": [
    {
     "name": "stdout",
     "output_type": "stream",
     "text": [
      "(1039, 9)\n",
      "(2092, 9)\n",
      "(2228, 9)\n",
      "(1719, 9)\n",
      "(2240, 9)\n",
      "(2408, 9)\n",
      "(2155, 9)\n",
      "(1584, 9)\n",
      "(2059, 9)\n",
      "(2865, 9)\n",
      "(1527, 9)\n",
      "(1837, 9)\n",
      "(1757, 9)\n"
     ]
    }
   ],
   "source": [
    "for strain in strain_lst:\n",
    "    dct_lst=[]\n",
    "    for family in family_lst:\n",
    "        filepath=\"/home/mitsuki/altorf/mbgd/blastn/result/{0}_{1}.tab\".format(strain, family)\n",
    "        if len(open(filepath, 'r').readlines())>0:\n",
    "            df=pd.read_csv(filepath,delimiter='\\t',header=None) \n",
    "            for _,row in df.iterrows():\n",
    "                dct={}\n",
    "                dct[\"chrom\"]=row[1]\n",
    "                dct[\"chromStart\"]=min(row[8], row[9])\n",
    "                dct[\"chromEnd\"]=max(row[8], row[9])\n",
    "\n",
    "                dct[\"name\"]=\"{0}:{1}\".format(row[0].split(':')[0], family)\n",
    "                dct[\"score\"]=int(-math.log(max(row[10], 1e-10), 10)*100)\n",
    "                dct[\"strand\"]=\".\"\n",
    "                dct[\"thickStart\"]=dct[\"chromStart\"]\n",
    "                dct[\"thickEnd\"]=dct[\"chromEnd\"]\n",
    "                dct[\"itemRgb\"]=\"255,0,0\"\n",
    "                dct_lst.append(dct)\n",
    "    \n",
    "    out_df=pd.DataFrame(dct_lst)\n",
    "    out_df=out_df[[\"chrom\",\"chromStart\", \"chromEnd\", \"name\", \"score\", \"strand\", \"thickStart\", \"thickEnd\", \"itemRgb\"]]\n",
    "    print(out_df.shape)\n",
    "       \n",
    "    outFilepath=\"./out/{0}.bed\".format(strain)\n",
    "    with open(outFilepath, 'w') as f:\n",
    "        header=\"track name={0}_blastn.bed useScore=1\".format(strain)\n",
    "        f.write(header+'\\n')\n",
    "    out_df.to_csv(outFilepath, sep='\\t', index=False, header=None, mode='a')"
   ]
  },
  {
   "cell_type": "code",
   "execution_count": 5,
   "metadata": {
    "collapsed": false
   },
   "outputs": [
    {
     "name": "stdout",
     "output_type": "stream",
     "text": [
      "(1757, 9)\n"
     ]
    },
    {
     "data": {
      "text/html": [
       "<div>\n",
       "<table border=\"1\" class=\"dataframe\">\n",
       "  <thead>\n",
       "    <tr style=\"text-align: right;\">\n",
       "      <th></th>\n",
       "      <th>chrom</th>\n",
       "      <th>chromStart</th>\n",
       "      <th>chromEnd</th>\n",
       "      <th>name</th>\n",
       "      <th>score</th>\n",
       "      <th>strand</th>\n",
       "      <th>thickStart</th>\n",
       "      <th>thickEnd</th>\n",
       "      <th>itemRgb</th>\n",
       "    </tr>\n",
       "  </thead>\n",
       "  <tbody>\n",
       "    <tr>\n",
       "      <th>0</th>\n",
       "      <td>gm03564:chromosome-1-1</td>\n",
       "      <td>4218315</td>\n",
       "      <td>4218395</td>\n",
       "      <td>ecz:Family9778</td>\n",
       "      <td>1000</td>\n",
       "      <td>.</td>\n",
       "      <td>4218315</td>\n",
       "      <td>4218395</td>\n",
       "      <td>255,0,0</td>\n",
       "    </tr>\n",
       "    <tr>\n",
       "      <th>1</th>\n",
       "      <td>gm03564:chromosome-1-1</td>\n",
       "      <td>4005300</td>\n",
       "      <td>4005542</td>\n",
       "      <td>ecz:Family15430</td>\n",
       "      <td>1000</td>\n",
       "      <td>.</td>\n",
       "      <td>4005300</td>\n",
       "      <td>4005542</td>\n",
       "      <td>255,0,0</td>\n",
       "    </tr>\n",
       "    <tr>\n",
       "      <th>2</th>\n",
       "      <td>gm03564:chromosome-1-1</td>\n",
       "      <td>1387003</td>\n",
       "      <td>1387122</td>\n",
       "      <td>ecm:Family8494</td>\n",
       "      <td>1000</td>\n",
       "      <td>.</td>\n",
       "      <td>1387003</td>\n",
       "      <td>1387122</td>\n",
       "      <td>255,0,0</td>\n",
       "    </tr>\n",
       "    <tr>\n",
       "      <th>3</th>\n",
       "      <td>gm03564:chromosome-1-1</td>\n",
       "      <td>1441948</td>\n",
       "      <td>1442031</td>\n",
       "      <td>elc:Family15326</td>\n",
       "      <td>1000</td>\n",
       "      <td>.</td>\n",
       "      <td>1441948</td>\n",
       "      <td>1442031</td>\n",
       "      <td>255,0,0</td>\n",
       "    </tr>\n",
       "    <tr>\n",
       "      <th>4</th>\n",
       "      <td>gm03564:chromosome-1-1</td>\n",
       "      <td>1815555</td>\n",
       "      <td>1815603</td>\n",
       "      <td>ecg:eae</td>\n",
       "      <td>412</td>\n",
       "      <td>.</td>\n",
       "      <td>1815555</td>\n",
       "      <td>1815603</td>\n",
       "      <td>255,0,0</td>\n",
       "    </tr>\n",
       "  </tbody>\n",
       "</table>\n",
       "</div>"
      ],
      "text/plain": [
       "                    chrom  chromStart  chromEnd             name  score  \\\n",
       "0  gm03564:chromosome-1-1     4218315   4218395   ecz:Family9778   1000   \n",
       "1  gm03564:chromosome-1-1     4005300   4005542  ecz:Family15430   1000   \n",
       "2  gm03564:chromosome-1-1     1387003   1387122   ecm:Family8494   1000   \n",
       "3  gm03564:chromosome-1-1     1441948   1442031  elc:Family15326   1000   \n",
       "4  gm03564:chromosome-1-1     1815555   1815603          ecg:eae    412   \n",
       "\n",
       "  strand  thickStart  thickEnd  itemRgb  \n",
       "0      .     4218315   4218395  255,0,0  \n",
       "1      .     4005300   4005542  255,0,0  \n",
       "2      .     1387003   1387122  255,0,0  \n",
       "3      .     1441948   1442031  255,0,0  \n",
       "4      .     1815555   1815603  255,0,0  "
      ]
     },
     "execution_count": 5,
     "metadata": {},
     "output_type": "execute_result"
    }
   ],
   "source": [
    "out_df=pd.DataFrame(dct_lst)\n",
    "out_df=out_df[[\"chrom\",\"chromStart\", \"chromEnd\", \"name\", \"score\", \"strand\", \"thickStart\", \"thickEnd\", \"itemRgb\"]]\n",
    "print(out_df.shape)\n",
    "out_df.head()"
   ]
  },
  {
   "cell_type": "code",
   "execution_count": 11,
   "metadata": {
    "collapsed": false
   },
   "outputs": [],
   "source": [
    "outFilepath=\"{0}_{1}.bed\".format(strain, family)\n",
    "with open(outFilepath, 'w') as f:\n",
    "    f.write()\n",
    "out_df.to_csv(\"ecg_betU.bed\", sep='\\t', index=False, header=None, mode='a')"
   ]
  },
  {
   "cell_type": "code",
   "execution_count": 2,
   "metadata": {
    "collapsed": false
   },
   "outputs": [
    {
     "data": {
      "text/html": [
       "<div>\n",
       "<table border=\"1\" class=\"dataframe\">\n",
       "  <thead>\n",
       "    <tr style=\"text-align: right;\">\n",
       "      <th></th>\n",
       "      <th>0</th>\n",
       "      <th>1</th>\n",
       "      <th>2</th>\n",
       "      <th>3</th>\n",
       "      <th>4</th>\n",
       "      <th>5</th>\n",
       "      <th>6</th>\n",
       "      <th>7</th>\n",
       "      <th>8</th>\n",
       "      <th>9</th>\n",
       "      <th>10</th>\n",
       "      <th>11</th>\n",
       "    </tr>\n",
       "  </thead>\n",
       "  <tbody>\n",
       "    <tr>\n",
       "      <th>0</th>\n",
       "      <td>ecoj:P423_RS24680</td>\n",
       "      <td>ecg:chromosome-1-1</td>\n",
       "      <td>80.247</td>\n",
       "      <td>81</td>\n",
       "      <td>16</td>\n",
       "      <td>0</td>\n",
       "      <td>978</td>\n",
       "      <td>1058</td>\n",
       "      <td>310074</td>\n",
       "      <td>310154</td>\n",
       "      <td>2.080000e-09</td>\n",
       "      <td>62.1</td>\n",
       "    </tr>\n",
       "    <tr>\n",
       "      <th>1</th>\n",
       "      <td>ecoj:P423_RS24680</td>\n",
       "      <td>ecg:chromosome-1-1</td>\n",
       "      <td>80.556</td>\n",
       "      <td>72</td>\n",
       "      <td>14</td>\n",
       "      <td>0</td>\n",
       "      <td>298</td>\n",
       "      <td>369</td>\n",
       "      <td>309397</td>\n",
       "      <td>309468</td>\n",
       "      <td>9.690000e-08</td>\n",
       "      <td>56.5</td>\n",
       "    </tr>\n",
       "    <tr>\n",
       "      <th>2</th>\n",
       "      <td>ecq:ECED1_5138</td>\n",
       "      <td>ecg:chromosome-1-1</td>\n",
       "      <td>80.247</td>\n",
       "      <td>81</td>\n",
       "      <td>16</td>\n",
       "      <td>0</td>\n",
       "      <td>984</td>\n",
       "      <td>1064</td>\n",
       "      <td>310074</td>\n",
       "      <td>310154</td>\n",
       "      <td>2.090000e-09</td>\n",
       "      <td>62.1</td>\n",
       "    </tr>\n",
       "    <tr>\n",
       "      <th>3</th>\n",
       "      <td>ecq:ECED1_5138</td>\n",
       "      <td>ecg:chromosome-1-1</td>\n",
       "      <td>80.556</td>\n",
       "      <td>72</td>\n",
       "      <td>14</td>\n",
       "      <td>0</td>\n",
       "      <td>304</td>\n",
       "      <td>375</td>\n",
       "      <td>309397</td>\n",
       "      <td>309468</td>\n",
       "      <td>9.720000e-08</td>\n",
       "      <td>56.5</td>\n",
       "    </tr>\n",
       "    <tr>\n",
       "      <th>4</th>\n",
       "      <td>eoc:CE10_RS25920</td>\n",
       "      <td>ecg:chromosome-1-1</td>\n",
       "      <td>80.247</td>\n",
       "      <td>81</td>\n",
       "      <td>16</td>\n",
       "      <td>0</td>\n",
       "      <td>984</td>\n",
       "      <td>1064</td>\n",
       "      <td>310074</td>\n",
       "      <td>310154</td>\n",
       "      <td>2.090000e-09</td>\n",
       "      <td>62.1</td>\n",
       "    </tr>\n",
       "  </tbody>\n",
       "</table>\n",
       "</div>"
      ],
      "text/plain": [
       "                  0                   1       2   3   4   5    6     7   \\\n",
       "0  ecoj:P423_RS24680  ecg:chromosome-1-1  80.247  81  16   0  978  1058   \n",
       "1  ecoj:P423_RS24680  ecg:chromosome-1-1  80.556  72  14   0  298   369   \n",
       "2     ecq:ECED1_5138  ecg:chromosome-1-1  80.247  81  16   0  984  1064   \n",
       "3     ecq:ECED1_5138  ecg:chromosome-1-1  80.556  72  14   0  304   375   \n",
       "4   eoc:CE10_RS25920  ecg:chromosome-1-1  80.247  81  16   0  984  1064   \n",
       "\n",
       "       8       9             10    11  \n",
       "0  310074  310154  2.080000e-09  62.1  \n",
       "1  309397  309468  9.690000e-08  56.5  \n",
       "2  310074  310154  2.090000e-09  62.1  \n",
       "3  309397  309468  9.720000e-08  56.5  \n",
       "4  310074  310154  2.090000e-09  62.1  "
      ]
     },
     "execution_count": 2,
     "metadata": {},
     "output_type": "execute_result"
    }
   ],
   "source": [
    "filepath=\"~/altorf/mbgd/blastn/result/ecg_betU.tab\"\n",
    "df=pd.read_csv(filepath,delimiter='\\t',header=None)\n",
    "df.head()"
   ]
  },
  {
   "cell_type": "code",
   "execution_count": 5,
   "metadata": {
    "collapsed": false
   },
   "outputs": [],
   "source": [
    "strain=\"ecg\"\n",
    "family=\"betU\"\n",
    "\n",
    "dct_lst=[]\n",
    "for _,row in df.iterrows():\n",
    "    dct={}\n",
    "    dct[\"chrom\"]=row[1]\n",
    "    dct[\"chromStart\"]=min(row[8], row[9])\n",
    "    dct[\"chromEnd\"]=max(row[8], row[9])\n",
    "    \n",
    "    dct[\"name\"]=\"{0}:{1}\".format(row[0].split(':')[0], family)\n",
    "    dct[\"score\"]=int(-math.log(row[10], 10)*100)\n",
    "    dct[\"strand\"]=\".\"\n",
    "    dct[\"thickStart\"]=dct[\"chromStart\"]\n",
    "    dct[\"thickEnd\"]=dct[\"chromEnd\"]\n",
    "    dct[\"itemRgb\"]=\"255,0,0\"\n",
    "    \n",
    "    dct_lst.append(dct)"
   ]
  },
  {
   "cell_type": "code",
   "execution_count": null,
   "metadata": {
    "collapsed": true
   },
   "outputs": [],
   "source": []
  }
 ],
 "metadata": {
  "kernelspec": {
   "display_name": "Python 3",
   "language": "python",
   "name": "python3"
  },
  "language_info": {
   "codemirror_mode": {
    "name": "ipython",
    "version": 3
   },
   "file_extension": ".py",
   "mimetype": "text/x-python",
   "name": "python",
   "nbconvert_exporter": "python",
   "pygments_lexer": "ipython3",
   "version": "3.6.0"
  }
 },
 "nbformat": 4,
 "nbformat_minor": 2
}
