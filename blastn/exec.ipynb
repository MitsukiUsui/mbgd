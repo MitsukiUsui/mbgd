{
 "cells": [
  {
   "cell_type": "code",
   "execution_count": 1,
   "metadata": {
    "collapsed": true
   },
   "outputs": [],
   "source": [
    "import pandas as pd\n",
    "import subprocess"
   ]
  },
  {
   "cell_type": "code",
   "execution_count": 6,
   "metadata": {
    "collapsed": false
   },
   "outputs": [],
   "source": [
    "clusterFilepath=\"/home/mitsuki/altorf/mbgd/data/sampled_cluster.tab\"\n",
    "strainFilepath=\"/home/mitsuki/altorf/mbgd/data/strain.lst\"\n",
    "strain_lst=[s.strip() for s in open(strainFilepath, 'r').readlines()]\n",
    "cluster_df=pd.read_csv(clusterFilepath, delimiter='\\t')\n",
    "family_lst=list(cluster_df[\"family\"])"
   ]
  },
  {
   "cell_type": "code",
   "execution_count": 7,
   "metadata": {
    "collapsed": false
   },
   "outputs": [
    {
     "data": {
      "text/html": [
       "<div>\n",
       "<table border=\"1\" class=\"dataframe\">\n",
       "  <thead>\n",
       "    <tr style=\"text-align: right;\">\n",
       "      <th></th>\n",
       "      <th>family</th>\n",
       "      <th>ecg</th>\n",
       "      <th>ese</th>\n",
       "      <th>ecoj</th>\n",
       "      <th>ecp</th>\n",
       "      <th>eci</th>\n",
       "      <th>ecz</th>\n",
       "      <th>eab</th>\n",
       "      <th>elc</th>\n",
       "      <th>eln</th>\n",
       "      <th>ecq</th>\n",
       "      <th>eoc</th>\n",
       "      <th>ecm</th>\n",
       "      <th>gm03564</th>\n",
       "      <th>Description</th>\n",
       "      <th>lineage</th>\n",
       "      <th>num_query</th>\n",
       "    </tr>\n",
       "  </thead>\n",
       "  <tbody>\n",
       "    <tr>\n",
       "      <th>0</th>\n",
       "      <td>family11799</td>\n",
       "      <td>NaN</td>\n",
       "      <td>NaN</td>\n",
       "      <td>NaN</td>\n",
       "      <td>NaN</td>\n",
       "      <td>NaN</td>\n",
       "      <td>NaN</td>\n",
       "      <td>NaN</td>\n",
       "      <td>NaN</td>\n",
       "      <td>NaN</td>\n",
       "      <td>NaN</td>\n",
       "      <td>NaN</td>\n",
       "      <td>ecm:PS4229</td>\n",
       "      <td>NaN</td>\n",
       "      <td>Predicted in CGM</td>\n",
       "      <td>1</td>\n",
       "      <td>1</td>\n",
       "    </tr>\n",
       "    <tr>\n",
       "      <th>1</th>\n",
       "      <td>family11605</td>\n",
       "      <td>NaN</td>\n",
       "      <td>NaN</td>\n",
       "      <td>NaN</td>\n",
       "      <td>NaN</td>\n",
       "      <td>NaN</td>\n",
       "      <td>NaN</td>\n",
       "      <td>NaN</td>\n",
       "      <td>NaN</td>\n",
       "      <td>NaN</td>\n",
       "      <td>ecq:ECED1_2260</td>\n",
       "      <td>NaN</td>\n",
       "      <td>NaN</td>\n",
       "      <td>NaN</td>\n",
       "      <td>Putative ATP/GTP-binding protein remnant</td>\n",
       "      <td>1</td>\n",
       "      <td>1</td>\n",
       "    </tr>\n",
       "    <tr>\n",
       "      <th>2</th>\n",
       "      <td>family7407</td>\n",
       "      <td>NaN</td>\n",
       "      <td>NaN</td>\n",
       "      <td>NaN</td>\n",
       "      <td>NaN</td>\n",
       "      <td>NaN</td>\n",
       "      <td>NaN</td>\n",
       "      <td>NaN</td>\n",
       "      <td>NaN</td>\n",
       "      <td>NaN</td>\n",
       "      <td>NaN</td>\n",
       "      <td>NaN</td>\n",
       "      <td>ecm:ECSMS35_RS25535</td>\n",
       "      <td>NaN</td>\n",
       "      <td>Integrase</td>\n",
       "      <td>1</td>\n",
       "      <td>1</td>\n",
       "    </tr>\n",
       "    <tr>\n",
       "      <th>3</th>\n",
       "      <td>family11960</td>\n",
       "      <td>NaN</td>\n",
       "      <td>NaN</td>\n",
       "      <td>NaN</td>\n",
       "      <td>NaN</td>\n",
       "      <td>NaN</td>\n",
       "      <td>NaN</td>\n",
       "      <td>NaN</td>\n",
       "      <td>NaN</td>\n",
       "      <td>NaN</td>\n",
       "      <td>NaN</td>\n",
       "      <td>eoc:CE10_RS12035</td>\n",
       "      <td>NaN</td>\n",
       "      <td>NaN</td>\n",
       "      <td>Hypothetical protein</td>\n",
       "      <td>1</td>\n",
       "      <td>1</td>\n",
       "    </tr>\n",
       "    <tr>\n",
       "      <th>4</th>\n",
       "      <td>family10755</td>\n",
       "      <td>NaN</td>\n",
       "      <td>NaN</td>\n",
       "      <td>NaN</td>\n",
       "      <td>NaN</td>\n",
       "      <td>NaN</td>\n",
       "      <td>NaN</td>\n",
       "      <td>NaN</td>\n",
       "      <td>NaN</td>\n",
       "      <td>NaN</td>\n",
       "      <td>ecq:ECED1_3536 ecq:ECED1_3534</td>\n",
       "      <td>NaN</td>\n",
       "      <td>NaN</td>\n",
       "      <td>NaN</td>\n",
       "      <td>Hypothetical protein</td>\n",
       "      <td>1</td>\n",
       "      <td>2</td>\n",
       "    </tr>\n",
       "  </tbody>\n",
       "</table>\n",
       "</div>"
      ],
      "text/plain": [
       "        family  ecg  ese ecoj  ecp  eci  ecz  eab  elc  eln  \\\n",
       "0  family11799  NaN  NaN  NaN  NaN  NaN  NaN  NaN  NaN  NaN   \n",
       "1  family11605  NaN  NaN  NaN  NaN  NaN  NaN  NaN  NaN  NaN   \n",
       "2   family7407  NaN  NaN  NaN  NaN  NaN  NaN  NaN  NaN  NaN   \n",
       "3  family11960  NaN  NaN  NaN  NaN  NaN  NaN  NaN  NaN  NaN   \n",
       "4  family10755  NaN  NaN  NaN  NaN  NaN  NaN  NaN  NaN  NaN   \n",
       "\n",
       "                             ecq               eoc                  ecm  \\\n",
       "0                            NaN               NaN           ecm:PS4229   \n",
       "1                 ecq:ECED1_2260               NaN                  NaN   \n",
       "2                            NaN               NaN  ecm:ECSMS35_RS25535   \n",
       "3                            NaN  eoc:CE10_RS12035                  NaN   \n",
       "4  ecq:ECED1_3536 ecq:ECED1_3534               NaN                  NaN   \n",
       "\n",
       "  gm03564                               Description  lineage  num_query  \n",
       "0     NaN                          Predicted in CGM        1          1  \n",
       "1     NaN  Putative ATP/GTP-binding protein remnant        1          1  \n",
       "2     NaN                                 Integrase        1          1  \n",
       "3     NaN                      Hypothetical protein        1          1  \n",
       "4     NaN                      Hypothetical protein        1          2  "
      ]
     },
     "execution_count": 7,
     "metadata": {},
     "output_type": "execute_result"
    }
   ],
   "source": [
    "cluster_df.head()"
   ]
  },
  {
   "cell_type": "code",
   "execution_count": 8,
   "metadata": {
    "collapsed": false
   },
   "outputs": [
    {
     "data": {
      "text/plain": [
       "family              family11799\n",
       "ecg                         NaN\n",
       "ese                         NaN\n",
       "ecoj                        NaN\n",
       "ecp                         NaN\n",
       "eci                         NaN\n",
       "ecz                         NaN\n",
       "eab                         NaN\n",
       "elc                         NaN\n",
       "eln                         NaN\n",
       "ecq                         NaN\n",
       "eoc                         NaN\n",
       "ecm                  ecm:PS4229\n",
       "gm03564                     NaN\n",
       "Description    Predicted in CGM\n",
       "lineage                       1\n",
       "num_query                     1\n",
       "Name: 0, dtype: object"
      ]
     },
     "execution_count": 8,
     "metadata": {},
     "output_type": "execute_result"
    }
   ],
   "source": [
    "row=cluster_df.loc[0,:]\n",
    "row"
   ]
  },
  {
   "cell_type": "code",
   "execution_count": 14,
   "metadata": {
    "collapsed": false
   },
   "outputs": [
    {
     "data": {
      "text/plain": [
       "[True, True, True, True, True, True, True, True, True, True, True, False, True]"
      ]
     },
     "execution_count": 14,
     "metadata": {},
     "output_type": "execute_result"
    }
   ],
   "source": [
    "list(row[strain_lst].isnull())"
   ]
  },
  {
   "cell_type": "code",
   "execution_count": 14,
   "metadata": {
    "collapsed": false
   },
   "outputs": [
    {
     "name": "stdout",
     "output_type": "stream",
     "text": [
      "ecg Family9778\n",
      "ese Family9778\n",
      "ecoj Family9778\n",
      "ecp Family9778\n",
      "eci Family9778\n",
      "ecz Family9778\n",
      "eab Family9778\n",
      "elc Family9778\n",
      "eln Family9778\n",
      "ecq Family9778\n",
      "eoc Family9778\n",
      "ecm Family9778\n",
      "gm03564 Family9778\n"
     ]
    }
   ],
   "source": [
    "for _,row in cluster_df.iterrows():\n",
    "    msk=list(row[strain_lst].isnull().index)\n",
    "    if i,v in enumerate(msk):\n",
    "        print(strain[i], row[\"family\"])\n",
    "    \n",
    "    \n",
    "    for strain in target_lst:\n",
    "        print(strain, row[\"Family\"])\n",
    "    break"
   ]
  },
  {
   "cell_type": "code",
   "execution_count": 16,
   "metadata": {
    "collapsed": false
   },
   "outputs": [
    {
     "data": {
      "text/plain": [
       "'gm03564'"
      ]
     },
     "execution_count": 16,
     "metadata": {},
     "output_type": "execute_result"
    }
   ],
   "source": [
    "strain"
   ]
  },
  {
   "cell_type": "code",
   "execution_count": 17,
   "metadata": {
    "collapsed": false
   },
   "outputs": [
    {
     "data": {
      "text/plain": [
       "'Family9778'"
      ]
     },
     "execution_count": 17,
     "metadata": {},
     "output_type": "execute_result"
    }
   ],
   "source": [
    "row[\"Family\"]"
   ]
  },
  {
   "cell_type": "code",
   "execution_count": 21,
   "metadata": {
    "collapsed": false
   },
   "outputs": [
    {
     "name": "stdout",
     "output_type": "stream",
     "text": [
      "/home/mitsuki/altorf/mbgd/blastn/sge_blastn_args.sh gm03564 Family9778\n"
     ]
    },
    {
     "data": {
      "text/plain": [
       "0"
      ]
     },
     "execution_count": 21,
     "metadata": {},
     "output_type": "execute_result"
    }
   ],
   "source": [
    "cmd=\"/home/mitsuki/altorf/mbgd/blastn/sge_blastn_args.sh {} {}\".format(strain,row[\"Family\"])\n",
    "print(cmd)\n",
    "subprocess.check_call(cmd.strip().split(' '))"
   ]
  },
  {
   "cell_type": "code",
   "execution_count": 5,
   "metadata": {
    "collapsed": false
   },
   "outputs": [
    {
     "data": {
      "text/plain": [
       "nan"
      ]
     },
     "execution_count": 5,
     "metadata": {},
     "output_type": "execute_result"
    }
   ],
   "source": [
    "cluster_df.loc[0,\"ecg\"]"
   ]
  },
  {
   "cell_type": "code",
   "execution_count": 12,
   "metadata": {
    "collapsed": false
   },
   "outputs": [
    {
     "data": {
      "text/plain": [
       "['ecg',\n",
       " 'ese',\n",
       " 'ecoj',\n",
       " 'ecp',\n",
       " 'eci',\n",
       " 'ecz',\n",
       " 'eab',\n",
       " 'elc',\n",
       " 'eln',\n",
       " 'ecq',\n",
       " 'eoc',\n",
       " 'ecm',\n",
       " 'gm03564']"
      ]
     },
     "execution_count": 12,
     "metadata": {},
     "output_type": "execute_result"
    }
   ],
   "source": [
    "list(cluster_df.loc[0,strain_lst].isnull().index)"
   ]
  },
  {
   "cell_type": "code",
   "execution_count": null,
   "metadata": {
    "collapsed": true
   },
   "outputs": [],
   "source": []
  }
 ],
 "metadata": {
  "kernelspec": {
   "display_name": "Python 3",
   "language": "python",
   "name": "python3"
  },
  "language_info": {
   "codemirror_mode": {
    "name": "ipython",
    "version": 3
   },
   "file_extension": ".py",
   "mimetype": "text/x-python",
   "name": "python",
   "nbconvert_exporter": "python",
   "pygments_lexer": "ipython3",
   "version": "3.6.0"
  }
 },
 "nbformat": 4,
 "nbformat_minor": 2
}
