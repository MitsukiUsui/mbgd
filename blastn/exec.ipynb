{
 "cells": [
  {
   "cell_type": "code",
   "execution_count": 15,
   "metadata": {
    "collapsed": true
   },
   "outputs": [],
   "source": [
    "import pandas as pd\n",
    "import subprocess"
   ]
  },
  {
   "cell_type": "code",
   "execution_count": 2,
   "metadata": {
    "collapsed": true
   },
   "outputs": [],
   "source": [
    "strainFilepath=\"../preprocess/strain.lst\"\n",
    "strain_lst=[s.strip() for s in open(strainFilepath, 'r').readlines()]\n",
    "cluster_df=pd.read_csv(\"../preprocess/sampled_cluster.csv\")\n",
    "family_lst=list(cluster_df[\"Family\"])"
   ]
  },
  {
   "cell_type": "code",
   "execution_count": 3,
   "metadata": {
    "collapsed": false
   },
   "outputs": [
    {
     "data": {
      "text/html": [
       "<div>\n",
       "<table border=\"1\" class=\"dataframe\">\n",
       "  <thead>\n",
       "    <tr style=\"text-align: right;\">\n",
       "      <th></th>\n",
       "      <th>Family</th>\n",
       "      <th>ecg</th>\n",
       "      <th>ese</th>\n",
       "      <th>ecoj</th>\n",
       "      <th>ecp</th>\n",
       "      <th>eci</th>\n",
       "      <th>ecz</th>\n",
       "      <th>eab</th>\n",
       "      <th>elc</th>\n",
       "      <th>eln</th>\n",
       "      <th>ecq</th>\n",
       "      <th>eoc</th>\n",
       "      <th>ecm</th>\n",
       "      <th>gm03564</th>\n",
       "      <th>Description</th>\n",
       "      <th>lineage</th>\n",
       "      <th>num_query</th>\n",
       "    </tr>\n",
       "  </thead>\n",
       "  <tbody>\n",
       "    <tr>\n",
       "      <th>0</th>\n",
       "      <td>Family9778</td>\n",
       "      <td>NaN</td>\n",
       "      <td>NaN</td>\n",
       "      <td>NaN</td>\n",
       "      <td>NaN</td>\n",
       "      <td>NaN</td>\n",
       "      <td>ecz:PS6097</td>\n",
       "      <td>NaN</td>\n",
       "      <td>NaN</td>\n",
       "      <td>NaN</td>\n",
       "      <td>NaN</td>\n",
       "      <td>NaN</td>\n",
       "      <td>NaN</td>\n",
       "      <td>NaN</td>\n",
       "      <td>Hypothetical protein</td>\n",
       "      <td>1</td>\n",
       "      <td>1</td>\n",
       "    </tr>\n",
       "    <tr>\n",
       "      <th>1</th>\n",
       "      <td>Family15430</td>\n",
       "      <td>NaN</td>\n",
       "      <td>NaN</td>\n",
       "      <td>NaN</td>\n",
       "      <td>NaN</td>\n",
       "      <td>NaN</td>\n",
       "      <td>ecz:ST3241</td>\n",
       "      <td>NaN</td>\n",
       "      <td>NaN</td>\n",
       "      <td>NaN</td>\n",
       "      <td>NaN</td>\n",
       "      <td>NaN</td>\n",
       "      <td>NaN</td>\n",
       "      <td>NaN</td>\n",
       "      <td>Conserved predicted protein</td>\n",
       "      <td>1</td>\n",
       "      <td>1</td>\n",
       "    </tr>\n",
       "    <tr>\n",
       "      <th>2</th>\n",
       "      <td>Family16101</td>\n",
       "      <td>NaN</td>\n",
       "      <td>NaN</td>\n",
       "      <td>ecoj:P423_RS26010</td>\n",
       "      <td>NaN</td>\n",
       "      <td>NaN</td>\n",
       "      <td>NaN</td>\n",
       "      <td>NaN</td>\n",
       "      <td>NaN</td>\n",
       "      <td>NaN</td>\n",
       "      <td>NaN</td>\n",
       "      <td>NaN</td>\n",
       "      <td>NaN</td>\n",
       "      <td>NaN</td>\n",
       "      <td>Hypothetical protein</td>\n",
       "      <td>1</td>\n",
       "      <td>1</td>\n",
       "    </tr>\n",
       "    <tr>\n",
       "      <th>3</th>\n",
       "      <td>Family8494</td>\n",
       "      <td>NaN</td>\n",
       "      <td>NaN</td>\n",
       "      <td>NaN</td>\n",
       "      <td>NaN</td>\n",
       "      <td>NaN</td>\n",
       "      <td>NaN</td>\n",
       "      <td>NaN</td>\n",
       "      <td>NaN</td>\n",
       "      <td>NaN</td>\n",
       "      <td>NaN</td>\n",
       "      <td>NaN</td>\n",
       "      <td>ecm:PS2145</td>\n",
       "      <td>NaN</td>\n",
       "      <td>Hypothetical protein</td>\n",
       "      <td>1</td>\n",
       "      <td>1</td>\n",
       "    </tr>\n",
       "    <tr>\n",
       "      <th>4</th>\n",
       "      <td>Family11829</td>\n",
       "      <td>NaN</td>\n",
       "      <td>NaN</td>\n",
       "      <td>NaN</td>\n",
       "      <td>NaN</td>\n",
       "      <td>NaN</td>\n",
       "      <td>NaN</td>\n",
       "      <td>NaN</td>\n",
       "      <td>NaN</td>\n",
       "      <td>eln:NRG857_05745(1)</td>\n",
       "      <td>NaN</td>\n",
       "      <td>NaN</td>\n",
       "      <td>NaN</td>\n",
       "      <td>NaN</td>\n",
       "      <td>Putative DNA primase from prophage</td>\n",
       "      <td>1</td>\n",
       "      <td>1</td>\n",
       "    </tr>\n",
       "  </tbody>\n",
       "</table>\n",
       "</div>"
      ],
      "text/plain": [
       "        Family  ecg  ese               ecoj  ecp  eci         ecz  eab  elc  \\\n",
       "0   Family9778  NaN  NaN                NaN  NaN  NaN  ecz:PS6097  NaN  NaN   \n",
       "1  Family15430  NaN  NaN                NaN  NaN  NaN  ecz:ST3241  NaN  NaN   \n",
       "2  Family16101  NaN  NaN  ecoj:P423_RS26010  NaN  NaN         NaN  NaN  NaN   \n",
       "3   Family8494  NaN  NaN                NaN  NaN  NaN         NaN  NaN  NaN   \n",
       "4  Family11829  NaN  NaN                NaN  NaN  NaN         NaN  NaN  NaN   \n",
       "\n",
       "                   eln  ecq  eoc         ecm gm03564  \\\n",
       "0                  NaN  NaN  NaN         NaN     NaN   \n",
       "1                  NaN  NaN  NaN         NaN     NaN   \n",
       "2                  NaN  NaN  NaN         NaN     NaN   \n",
       "3                  NaN  NaN  NaN  ecm:PS2145     NaN   \n",
       "4  eln:NRG857_05745(1)  NaN  NaN         NaN     NaN   \n",
       "\n",
       "                          Description  lineage  num_query  \n",
       "0                Hypothetical protein        1          1  \n",
       "1         Conserved predicted protein        1          1  \n",
       "2                Hypothetical protein        1          1  \n",
       "3                Hypothetical protein        1          1  \n",
       "4  Putative DNA primase from prophage        1          1  "
      ]
     },
     "execution_count": 3,
     "metadata": {},
     "output_type": "execute_result"
    }
   ],
   "source": [
    "cluster_df.head()"
   ]
  },
  {
   "cell_type": "code",
   "execution_count": 14,
   "metadata": {
    "collapsed": false
   },
   "outputs": [
    {
     "name": "stdout",
     "output_type": "stream",
     "text": [
      "ecg Family9778\n",
      "ese Family9778\n",
      "ecoj Family9778\n",
      "ecp Family9778\n",
      "eci Family9778\n",
      "ecz Family9778\n",
      "eab Family9778\n",
      "elc Family9778\n",
      "eln Family9778\n",
      "ecq Family9778\n",
      "eoc Family9778\n",
      "ecm Family9778\n",
      "gm03564 Family9778\n"
     ]
    }
   ],
   "source": [
    "for _,row in cluster_df.iterrows():\n",
    "    target_lst=list(row[strain_lst].isnull().index)\n",
    "    for strain in target_lst:\n",
    "        print(strain, row[\"Family\"])\n",
    "    break"
   ]
  },
  {
   "cell_type": "code",
   "execution_count": 16,
   "metadata": {
    "collapsed": false
   },
   "outputs": [
    {
     "data": {
      "text/plain": [
       "'gm03564'"
      ]
     },
     "execution_count": 16,
     "metadata": {},
     "output_type": "execute_result"
    }
   ],
   "source": [
    "strain"
   ]
  },
  {
   "cell_type": "code",
   "execution_count": 17,
   "metadata": {
    "collapsed": false
   },
   "outputs": [
    {
     "data": {
      "text/plain": [
       "'Family9778'"
      ]
     },
     "execution_count": 17,
     "metadata": {},
     "output_type": "execute_result"
    }
   ],
   "source": [
    "row[\"Family\"]"
   ]
  },
  {
   "cell_type": "code",
   "execution_count": 21,
   "metadata": {
    "collapsed": false
   },
   "outputs": [
    {
     "name": "stdout",
     "output_type": "stream",
     "text": [
      "/home/mitsuki/altorf/mbgd/blastn/sge_blastn_args.sh gm03564 Family9778\n"
     ]
    },
    {
     "data": {
      "text/plain": [
       "0"
      ]
     },
     "execution_count": 21,
     "metadata": {},
     "output_type": "execute_result"
    }
   ],
   "source": [
    "cmd=\"/home/mitsuki/altorf/mbgd/blastn/sge_blastn_args.sh {} {}\".format(strain,row[\"Family\"])\n",
    "print(cmd)\n",
    "subprocess.check_call(cmd.strip().split(' '))"
   ]
  },
  {
   "cell_type": "code",
   "execution_count": 5,
   "metadata": {
    "collapsed": false
   },
   "outputs": [
    {
     "data": {
      "text/plain": [
       "nan"
      ]
     },
     "execution_count": 5,
     "metadata": {},
     "output_type": "execute_result"
    }
   ],
   "source": [
    "cluster_df.loc[0,\"ecg\"]"
   ]
  },
  {
   "cell_type": "code",
   "execution_count": 12,
   "metadata": {
    "collapsed": false
   },
   "outputs": [
    {
     "data": {
      "text/plain": [
       "['ecg',\n",
       " 'ese',\n",
       " 'ecoj',\n",
       " 'ecp',\n",
       " 'eci',\n",
       " 'ecz',\n",
       " 'eab',\n",
       " 'elc',\n",
       " 'eln',\n",
       " 'ecq',\n",
       " 'eoc',\n",
       " 'ecm',\n",
       " 'gm03564']"
      ]
     },
     "execution_count": 12,
     "metadata": {},
     "output_type": "execute_result"
    }
   ],
   "source": [
    "list(cluster_df.loc[0,strain_lst].isnull().index)"
   ]
  },
  {
   "cell_type": "code",
   "execution_count": null,
   "metadata": {
    "collapsed": true
   },
   "outputs": [],
   "source": []
  }
 ],
 "metadata": {
  "kernelspec": {
   "display_name": "Python 3",
   "language": "python",
   "name": "python3"
  },
  "language_info": {
   "codemirror_mode": {
    "name": "ipython",
    "version": 3
   },
   "file_extension": ".py",
   "mimetype": "text/x-python",
   "name": "python",
   "nbconvert_exporter": "python",
   "pygments_lexer": "ipython3",
   "version": "3.6.0"
  }
 },
 "nbformat": 4,
 "nbformat_minor": 2
}
